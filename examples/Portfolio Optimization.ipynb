{
 "metadata": {
  "language": "Julia",
  "name": ""
 },
 "nbformat": 3,
 "nbformat_minor": 0,
 "worksheets": [
  {
   "cells": [
    {
     "cell_type": "markdown",
     "metadata": {},
     "source": [
      "#  Portfolio Optimization\n",
      "\n",
      "In this problem, we will find the portfolio allocation that minimizes risk while achieving a given expected return $R_\\mbox{target}$.\n",
      "\n",
      "Suppose that we know the mean returns $R \\in \\mathbf{R}^n$ and the covariance $Q \\in \\mathbf{R}^{n \\times n}$ of the $n$ assets. We would like to find a portfolio allocation $x \\in \\mathbf{R}^n$, $\\sum_i x_i = 1$, minimizing the *risk* of the portfolio, which we measure as the variance $x^T Q x$ of the portfolio. The requirement that the portfolio allocation achieve the target expected return can be expressed as $x^T R >= R_\\mbox{target}$. We suppose further that our portfolio allocation must comply with some lower and upper bounds on the allocation, $x_\\mbox{lower} \\leq x \\leq x_\\mbox{upper}$.\n",
      "\n",
      "This problem can be written as\n",
      "\n",
      "\\begin{array}{ll}\n",
      "    \\mbox{minimize}   & x^T Q x \\\\\n",
      "    \\mbox{subject to} & x^T R >= R_\\mbox{target} \\\\\n",
      "                      & \\sum_i x_i = 1 \\\\\n",
      "                      & x_\\mbox{lower} \\leq x \\leq x_\\mbox{upper}\n",
      "\\end{array}\n",
      "\n",
      "where $x \\in \\mathbf{R}^n$ is our optimization variable.\n",
      "\n",
      "We can solve this problem as follows."
     ]
    },
    {
     "cell_type": "code",
     "collapsed": false,
     "input": [
      "using Convex, ECOS\n",
      "\n",
      "# generate problem data\n",
      "srand(1)\n",
      "n = 50\n",
      "R = 5*randn(n)\n",
      "A = randn(n, 5)\n",
      "Q = A * A' + diagm(rand(n))\n",
      "R_target = 10\n",
      "x_lower = 0\n",
      "x_upper = 1\n",
      "\n",
      "x = Variable(length(R))\n",
      "p = minimize(quad_form(x, Q), \n",
      "             x' * R >= R_target, \n",
      "             sum(x) == 1, \n",
      "             x_lower <= x, \n",
      "             x <= x_upper )\n",
      "\n",
      "solve!(p, ECOSSolver(verbose = false)) \n",
      "\n",
      "# the minimal risk\n",
      "p.optval"
     ],
     "language": "python",
     "metadata": {},
     "outputs": [
      {
       "metadata": {},
       "output_type": "pyout",
       "prompt_number": 1,
       "text": [
        "3.4785418906809578"
       ]
      }
     ],
     "prompt_number": 1
    },
    {
     "cell_type": "code",
     "collapsed": false,
     "input": [
      "# plot the allocation\n",
      "using Gadfly\n",
      "plot(x = x.value, Geom.histogram)"
     ],
     "language": "python",
     "metadata": {},
     "outputs": [
      {
       "ename": "UndefVarError",
       "evalue": "sizehint! not defined",
       "output_type": "pyerr",
       "traceback": [
        "sizehint! not defined",
        "",
        " in realize at /Users/madeleineudell/.julia/v0.3/Compose/src/table-jump.jl:142",
        " in drawpart at /Users/madeleineudell/.julia/v0.3/Compose/src/container.jl:443",
        " in draw at /Users/madeleineudell/.julia/v0.3/Compose/src/container.jl:400",
        " in writemime at /Users/madeleineudell/.julia/v0.3/Gadfly/src/Gadfly.jl:812",
        " in sprint at iostream.jl:229",
        " in display_dict at /Users/madeleineudell/.julia/v0.3/IJulia/src/execute_request.jl:31"
       ]
      }
     ],
     "prompt_number": 2
    },
    {
     "cell_type": "code",
     "collapsed": false,
     "input": [
      "Pkg.update()"
     ],
     "language": "python",
     "metadata": {},
     "outputs": [
      {
       "output_type": "stream",
       "stream": "stderr",
       "text": [
        "INFO: Updating METADATA...\n"
       ]
      },
      {
       "output_type": "stream",
       "stream": "stderr",
       "text": [
        "fatal: 'SigmoidalPrograming' does not appear to be a git repository\n"
       ]
      },
      {
       "output_type": "stream",
       "stream": "stderr",
       "text": [
        "fatal: Could not read from remote repository.\n",
        "\n",
        "Please make sure you have the correct access rights\n",
        "and the repository exists.\n"
       ]
      },
      {
       "ename": "LoadError",
       "evalue": "failed process: Process(`git pull -q`, ProcessExited(1)) [1]\nwhile loading In[3], in expression starting on line 1",
       "output_type": "pyerr",
       "traceback": [
        "failed process: Process(`git pull -q`, ProcessExited(1)) [1]\nwhile loading In[3], in expression starting on line 1",
        "",
        " in pipeline_error at process.jl:502",
        " in run at pkg/git.jl:22",
        " in anonymous at pkg/entry.jl:246",
        " in with_env at env.jl:177",
        " in anonymous at pkg/entry.jl:245",
        " in cd at /Applications/Julia-0.3.0.app/Contents/Resources/julia/lib/julia/sys.dylib",
        " in update at /Applications/Julia-0.3.0.app/Contents/Resources/julia/lib/julia/sys.dylib",
        " in anonymous at pkg/dir.jl:28",
        " in cd at /Applications/Julia-0.3.0.app/Contents/Resources/julia/lib/julia/sys.dylib",
        " in __cd#227__ at /Applications/Julia-0.3.0.app/Contents/Resources/julia/lib/julia/sys.dylib",
        " in update at /Applications/Julia-0.3.0.app/Contents/Resources/julia/lib/julia/sys.dylib (repeats 2 times)"
       ]
      }
     ],
     "prompt_number": 3
    }
   ],
   "metadata": {}
  }
 ]
}