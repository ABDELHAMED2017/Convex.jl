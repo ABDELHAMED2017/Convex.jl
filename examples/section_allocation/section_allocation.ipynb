{
 "metadata": {
  "language": "Julia",
  "name": "",
  "signature": "sha256:380fc18f97e887789299813d9bb1e2a99143502a81df13ee8865926fc8186ddc"
 },
 "nbformat": 3,
 "nbformat_minor": 0,
 "worksheets": [
  {
   "cells": [
    {
     "cell_type": "markdown",
     "metadata": {},
     "source": [
      "# Section Allocation\n",
      "Suppose you have $n$ students in a class who need to be assigned to $m$ discussion sections. Each student needs to be assigned to exactly one section. Each discussion section should have between 6 and 10 students. Suppose an $n \\times m$ preference matrix $P$ is given, where $P_{ij}$ gives student $i$'s ranking for section $j$ (1 would mean it is the students top choice, 10,000 or a large number would mean the student can not attend that section).\n",
      "\n",
      "The goal will be to get an allocation matrix $X$, where $X_{ij} = 1$ if student $i$ is assigned to section $j$ and $0$ otherwise. "
     ]
    },
    {
     "cell_type": "code",
     "collapsed": false,
     "input": [
      "using Convex, Mosek\n",
      "# data.jl has our preference matrix, P\n",
      "include(\"data.jl\");\n",
      "\n",
      "X = Variable(size(P), :Bin)\n",
      "\n",
      "p = minimize(vec(X)' * vec(P), X >= 0, sum(X, 2) == 1, sum(X, 1) <= 10, sum(X, 1) >= 6)\n",
      "solve!(p, MosekSolver(LOG=0))"
     ],
     "language": "python",
     "metadata": {},
     "outputs": [],
     "prompt_number": 5
    }
   ],
   "metadata": {}
  }
 ]
}