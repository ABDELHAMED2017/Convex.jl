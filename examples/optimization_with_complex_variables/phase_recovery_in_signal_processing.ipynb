{
 "cells": [
  {
   "cell_type": "markdown",
   "metadata": {},
   "source": [
    "One of the applications of convex optimization in complex variables is phase recovery, a problem in signal processing. The phase recovery problem seeks to retrieve a signal $x \\in \\mathbb{C}^p$ from the amplitude b = |Ax| of n linear measurements. The mathematical reprsentation of the problem is as follows:\n",
    "\n",
    ">>>> find x\n",
    "\n",
    ">>>> such that |Ax| = b\n",
    "\n",
    ">>>> where $x \\in \\mathbb{C}^p$, $A \\in \\mathbb{C}^{n×p}$ and $b \\in \\mathbb{R}^n$.\n",
    "\n",
    "This problem is orginally a nonconvex optimization problem. Using results from [this paper](https://arxiv.org/abs/1206.0102), the problem can be relaxed to a (complex) semidefinite program (complex SDP)."
   ]
  },
  {
   "cell_type": "markdown",
   "metadata": {},
   "source": [
    "Given a linear operator $A$ and a vector $b= |Ax|$ of measured amplitudes, define the positive semidefinite hermitian matrix $M = \\text{diag}(b) (I - A A^*) \\text{diag}(b)$. The problem is:\n",
    "\n",
    "                minimize < U,M >\n",
    "                subject to \n",
    "                diag(U) = 1\n",
    "                U in :HermitianSemiDefinite\n",
    "                \n",
    "Here the variable $U$ must be hermitian ($U \\in \\mathbb{H}_n $), and we have a solution to the phase recovery problem if $U = u u^*$ has rank one. Otherwise, the leading singular vector of $U$ can be used to approximate the solution."
   ]
  },
  {
   "cell_type": "code",
   "execution_count": 95,
   "metadata": {
    "collapsed": false
   },
   "outputs": [
    {
     "name": "stdout",
     "output_type": "stream",
     "text": [
      "(size(coeff),size(var)) = ((16,16),(16,16))\n",
      "----------------------------------------------------------------------------\n",
      "\tSCS v1.1.8 - Splitting Conic Solver\n",
      "\t(c) Brendan O'Donoghue, Stanford University, 2012-2015\n",
      "----------------------------------------------------------------------------\n",
      "Lin-sys: sparse-direct, nnz in A = 505\n",
      "eps = 1.00e-04, alpha = 1.80, max_iters = 20000, normalize = 1, scale = 5.00\n",
      "Variables n = 129, constraints m = 273\n",
      "Cones:\tprimal zero / dual free vars: 137\n",
      "\tsd vars: 136, sd blks: 1\n",
      "Setup time: 4.07e-04s\n",
      "----------------------------------------------------------------------------\n",
      " Iter | pri res | dua res | rel gap | pri obj | dua obj | kap/tau | time (s)\n",
      "----------------------------------------------------------------------------\n",
      "     0|      inf       inf      -nan      -inf       inf       inf  1.94e-04 \n",
      "   100| 2.43e-03  1.11e-01  1.61e-05 -4.42e+01 -4.42e+01  1.70e-16  2.03e-02 \n",
      "   200| 1.98e-03  1.12e-01  1.40e-04 -4.44e+01 -4.44e+01  1.33e-16  4.69e-02 \n",
      "   300| 1.28e-03  7.58e-02  1.17e-04 -4.46e+01 -4.46e+01  4.69e-16  7.13e-02 \n",
      "   400| 1.25e-04  1.69e-03  5.01e-06 -4.46e+01 -4.46e+01  1.94e-16  9.57e-02 \n",
      "   500| 1.22e-05  6.51e-04  6.48e-07 -4.46e+01 -4.46e+01  1.84e-16  1.18e-01 \n",
      "   600| 3.18e-06  1.99e-04  6.69e-08 -4.46e+01 -4.46e+01  1.64e-16  1.39e-01 \n",
      "   700| 2.17e-06  1.45e-04  2.25e-09 -4.46e+01 -4.46e+01  5.37e-16  1.58e-01 \n",
      "   800| 1.60e-06  1.07e-04  8.59e-10 -4.46e+01 -4.46e+01  4.73e-16  1.79e-01 \n",
      "   840| 1.42e-06  9.44e-05  1.85e-09 -4.46e+01 -4.46e+01  8.10e-16  1.86e-01 \n",
      "----------------------------------------------------------------------------\n",
      "Status: Solved\n",
      "Timing: Solve time: 1.87e-01s\n",
      "\tLin-sys: nnz in L factor: 1019, avg solve time: 1.11e-05s\n",
      "\tCones: avg projection time: 2.03e-04s\n",
      "----------------------------------------------------------------------------\n",
      "Error metrics:\n",
      "dist(s, K) = 2.5358e-09, dist(y, K*) = 1.3575e-09, s'y/m = -5.8343e-12\n",
      "|Ax + s - b|_2 / (1 + |b|_2) = 1.4206e-06\n",
      "|A'y + c|_2 / (1 + |c|_2) = 9.4359e-05\n",
      "|c'x + b'y| / (1 + |c'x| + |b'y|) = 1.8505e-09\n",
      "----------------------------------------------------------------------------\n",
      "c'x = -44.6321, -b'y = -44.6321\n",
      "============================================================================\n"
     ]
    },
    {
     "data": {
      "text/plain": [
       "8×8 Array{Complex{Float64},2}:\n",
       " 1.0-1.93739e-17im           0.950097-0.311954im   …     0.994131-0.108179im \n",
       "     0.950097+0.311954im  1.0+2.2594e-17im               0.978268+0.207343im \n",
       "    -0.988573-0.150744im    -0.986265+0.165168im        -0.999079-0.0429163im\n",
       "     0.970355+0.241684im     0.997326-0.0730829im        0.990806+0.135294im \n",
       "    -0.113401-0.993549im    -0.417683-0.908593im        -0.220216-0.975451im \n",
       "    -0.967851-0.251525im    -0.998017+0.0629521im  …    -0.989381-0.145348im \n",
       "    -0.210569-0.977579im    -0.505021-0.863107im        -0.315087-0.949063im \n",
       "     0.994131+0.108179im     0.978268-0.207343im      1.0-1.1868e-16im       "
      ]
     },
     "execution_count": 95,
     "metadata": {},
     "output_type": "execute_result"
    }
   ],
   "source": [
    "using Convex\n",
    "\n",
    "n = 8\n",
    "p = 2\n",
    "A = rand(n,p) + im*randn(n,p)\n",
    "b = rand(n)\n",
    "M = diagm(b)*(eye(n)-A*ctranspose(A))*diagm(b)\n",
    "U = ComplexVariable(n,n)\n",
    "objective = inner_product(U,M)\n",
    "c1 = diag(U) == 1 \n",
    "c2 = U in :SDP\n",
    "p = minimize(objective,c1,c2)\n",
    "solve!(p)\n",
    "U.value"
   ]
  },
  {
   "cell_type": "code",
   "execution_count": 96,
   "metadata": {
    "collapsed": false
   },
   "outputs": [
    {
     "data": {
      "text/plain": [
       "-1.0526255468882988"
      ]
     },
     "execution_count": 96,
     "metadata": {},
     "output_type": "execute_result"
    }
   ],
   "source": [
    "# Verify if the rank of U is 1\n",
    "B, C = eig(U.value);\n",
    "length([e for e in B if(abs(real(e))>1e-4)])\n",
    "#Decompose U = uu*\n",
    "u = C[:,1]\n",
    "for i in 1:n\n",
    "        u[i] = u[i]/abs(u[i])\n",
    "end\n",
    "atan(sum(imag(u))/sum(real(u)))"
   ]
  },
  {
   "cell_type": "code",
   "execution_count": 97,
   "metadata": {
    "collapsed": false
   },
   "outputs": [
    {
     "data": {
      "text/plain": [
       "1.5027502381165467"
      ]
     },
     "execution_count": 97,
     "metadata": {},
     "output_type": "execute_result"
    }
   ],
   "source": [
    "x = A'*diagm(b)*u\n",
    "atan(sum(imag(x))/sum(real(x)))"
   ]
  }
 ],
 "metadata": {
  "anaconda-cloud": {},
  "kernelspec": {
   "display_name": "Julia 0.5.0-rc3",
   "language": "julia",
   "name": "julia-0.5"
  },
  "language_info": {
   "file_extension": ".jl",
   "mimetype": "application/julia",
   "name": "julia",
   "version": "0.5.0"
  }
 },
 "nbformat": 4,
 "nbformat_minor": 0
}
