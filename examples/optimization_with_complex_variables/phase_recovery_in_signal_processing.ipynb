{
 "cells": [
  {
   "cell_type": "markdown",
   "metadata": {},
   "source": [
    "One of the applications of convex optimization in complex variables is phase recovery, a problem in signal processing. The objective is to reconstruct the complex phase of a vector when we are only given the magnitude of some linear measurements.\n",
    "\n",
    "This problem is orginally a nonconvex optimization problem. Using results from [this paper](https://arxiv.org/abs/1206.0102), the problem can be relaxed to a (complex) semidefinite program (complex SDP)."
   ]
  },
  {
   "cell_type": "markdown",
   "metadata": {},
   "source": [
    "Given a linear operator $A$ and a vector $b= |Ax|$ of measured amplitudes, define the positive semidefinite hermitian matrix $M = \\text{diag}(b) (I - A A^*) \\text{diag}(b)$. The problem is:\n",
    "\n",
    "                minimize < U,M >\n",
    "                subject to \n",
    "                diag(U) = 1\n",
    "                U in :HermitianSemiDefinite\n",
    "                \n",
    "Here the variable $U$ must be hermitian ($U \\in \\mathbb{H}_n $), and we have a solution to the phase recovery problem if $U = u u^*$ has rank one. Otherwise, the leading singular vector of $U$ can be used to approximate the solution.\n",
    "\n",
    "Also $Ax = diag(b)u$"
   ]
  },
  {
   "cell_type": "code",
   "execution_count": 26,
   "metadata": {
    "collapsed": false
   },
   "outputs": [
    {
     "name": "stdout",
     "output_type": "stream",
     "text": [
      "(size(coeff),size(var)) = ((16,16),(16,16))\n",
      "----------------------------------------------------------------------------\n",
      "\tSCS v1.1.8 - Splitting Conic Solver\n",
      "\t(c) Brendan O'Donoghue, Stanford University, 2012-2015\n",
      "----------------------------------------------------------------------------\n",
      "Lin-sys: sparse-direct, nnz in A = 505\n",
      "eps = 1.00e-04, alpha = 1.80, max_iters = 20000, normalize = 1, scale = 5.00\n",
      "Variables n = 129, constraints m = 273\n",
      "Cones:\tprimal zero / dual free vars: 137\n",
      "\tsd vars: 136, sd blks: 1\n",
      "Setup time: 3.64e-04s\n",
      "----------------------------------------------------------------------------\n",
      " Iter | pri res | dua res | rel gap | pri obj | dua obj | kap/tau | time (s)\n",
      "----------------------------------------------------------------------------\n",
      "     0|      inf       inf      -nan      -inf      -inf       inf  1.70e-02 \n",
      "   100|      inf       inf      -nan      -inf      -inf       inf  4.35e-02 \n",
      "   200| 4.02e-03  1.56e-04  2.25e-06 -3.09e+02 -3.09e+02  2.08e-17  6.40e-02 \n",
      "   300| 5.43e-05  3.97e-06  3.39e-08 -3.09e+02 -3.09e+02  5.89e-19  8.50e-02 \n",
      "----------------------------------------------------------------------------\n",
      "Status: Solved\n",
      "Timing: Solve time: 8.50e-02s\n",
      "\tLin-sys: nnz in L factor: 1019, avg solve time: 1.02e-05s\n",
      "\tCones: avg projection time: 2.65e-04s\n",
      "----------------------------------------------------------------------------\n",
      "Error metrics:\n",
      "dist(s, K) = 6.2528e-09, dist(y, K*) = 1.4513e-09, s'y/m = 9.2918e-10\n",
      "|Ax + s - b|_2 / (1 + |b|_2) = 5.4262e-05\n",
      "|A'y + c|_2 / (1 + |c|_2) = 3.9715e-06\n",
      "|c'x + b'y| / (1 + |c'x| + |b'y|) = 3.3891e-08\n",
      "----------------------------------------------------------------------------\n",
      "c'x = -308.7899, -b'y = -308.7899\n",
      "============================================================================\n"
     ]
    },
    {
     "data": {
      "text/plain": [
       "8×8 Array{Complex{Float64},2}:\n",
       " 0.999999-5.42889e-16im        …           0.998547-0.053849im\n",
       "         0.0514617+0.998673im              0.105165+0.994453im\n",
       "         -0.235406+0.971896im             -0.182729+0.983162im\n",
       "          0.460487-0.887665im              0.412019-0.911173im\n",
       "          0.992578-0.121577im               0.98459-0.17485im \n",
       "          0.559553-0.828793im  …           0.514111-0.857721im\n",
       "          0.782395+0.622777im              0.814795+0.579742im\n",
       "          0.998547+0.053849im     0.999999+1.62088e-15im      "
      ]
     },
     "execution_count": 26,
     "metadata": {},
     "output_type": "execute_result"
    }
   ],
   "source": [
    "using Convex\n",
    "\n",
    "n = 8\n",
    "p = 2\n",
    "A = rand(n,p) + im*randn(n,p)\n",
    "x = randn(p) + im*randn(p)\n",
    "b = abs(A*x)\n",
    "M = diagm(b)*(eye(n)-A*ctranspose(A))*diagm(b)\n",
    "\n",
    "U = ComplexVariable(n,n)\n",
    "objective = inner_product(U,M)\n",
    "c1 = diag(U) == 1 \n",
    "c2 = U in :SDP\n",
    "p = minimize(objective,c1,c2)\n",
    "solve!(p)\n",
    "U.value"
   ]
  },
  {
   "cell_type": "code",
   "execution_count": 38,
   "metadata": {
    "collapsed": false
   },
   "outputs": [
    {
     "data": {
      "text/plain": [
       "8-element Array{Complex{Float64},1}:\n",
       " -0.235407-0.971897im\n",
       "  0.958495-0.28511im \n",
       "       1.0+0.0im     \n",
       " -0.971122-0.238584im\n",
       " -0.351821-0.936067im\n",
       " -0.937225-0.348725im\n",
       "  0.421096-0.907016im\n",
       " -0.182729-0.983163im"
      ]
     },
     "execution_count": 38,
     "metadata": {},
     "output_type": "execute_result"
    }
   ],
   "source": [
    "# Verify if the rank of U is 1\n",
    "B, C = eig(U.value);\n",
    "length([b for b in B if(abs(real(b))>1e-4)])\n",
    "#Decompose U = uu*\n",
    "u = C[:,1]\n",
    "for i in 1:8\n",
    "        u[i] = u[i]/abs(u[i])\n",
    "        \n",
    "end\n",
    "u\n",
    "\n",
    "#x = ctranspose(A)*diagm(b)*u\n",
    "# #verify A*x = diagm(b)*u\n",
    "#norm(A*x-diagm(b)*u)"
   ]
  },
  {
   "cell_type": "code",
   "execution_count": 37,
   "metadata": {
    "collapsed": false
   },
   "outputs": [
    {
     "data": {
      "text/plain": [
       "2-element Array{Complex{Float64},1}:\n",
       "  1.00229+1.01909im  \n",
       " -1.20131-0.0487328im"
      ]
     },
     "execution_count": 37,
     "metadata": {},
     "output_type": "execute_result"
    }
   ],
   "source": [
    "x"
   ]
  },
  {
   "cell_type": "code",
   "execution_count": null,
   "metadata": {
    "collapsed": true
   },
   "outputs": [],
   "source": [
    "real()"
   ]
  }
 ],
 "metadata": {
  "anaconda-cloud": {},
  "kernelspec": {
   "display_name": "Julia 0.5.0-rc3",
   "language": "julia",
   "name": "julia-0.5"
  },
  "language_info": {
   "file_extension": ".jl",
   "mimetype": "application/julia",
   "name": "julia",
   "version": "0.5.0"
  }
 },
 "nbformat": 4,
 "nbformat_minor": 0
}
