{
 "cells": [
  {
   "cell_type": "markdown",
   "metadata": {},
   "source": [
    "One of the applications of convex optimization in complex variables is phase recovery, a problem in signal processing. The objective is to reconstruct the complex phase of a vector when we are only given the magnitude of some linear measurements.\n",
    "\n",
    "This problem is orginally a nonconvex optimization problem. Using results from [this paper](https://arxiv.org/abs/1206.0102), the problem can be relaxed to a (complex) semidefinite program (complex SDP)."
   ]
  },
  {
   "cell_type": "markdown",
   "metadata": {},
   "source": [
    "Given a linear operator $A$ and a vector $b$ of measured amplitudes, define the positive semidefinite hermitian matrix $M = \\text{diag}(b) (I - A A^*) \\text{diag}(b)$. The problem is:\n",
    "\n",
    "                minimize < U,M >\n",
    "                subject to \n",
    "                diag(U) = 1\n",
    "                U in :HermitianSemiDefinite\n",
    "                \n",
    "Here the variable $U$ must be hermitian ($U \\in \\mathbb{H}_n $), and we have a solution to the phase recovery problem if $U = u u^*$ has rank one. Otherwise, the leading singular vector of $U$ can be used to approximate the solution.\n"
   ]
  },
  {
   "cell_type": "code",
   "execution_count": 2,
   "metadata": {
    "collapsed": false
   },
   "outputs": [
    {
     "name": "stdout",
     "output_type": "stream",
     "text": [
      "(size(coeff),size(var)) = ((10,10),(10,10))\n",
      "----------------------------------------------------------------------------\n",
      "\tSCS v1.1.8 - Splitting Conic Solver\n",
      "\t(c) Brendan O'Donoghue, Stanford University, 2012-2015\n",
      "----------------------------------------------------------------------------\n",
      "Lin-sys: sparse-direct, nnz in A = 201\n",
      "eps = 1.00e-04, alpha = 1.80, max_iters = 20000, normalize = 1, scale = 5.00\n",
      "Variables n = 51, constraints m = 111\n",
      "Cones:\tprimal zero / dual free vars: 56\n",
      "\tsd vars: 55, sd blks: 1\n",
      "Setup time: 1.85e-04s\n",
      "----------------------------------------------------------------------------\n",
      " Iter | pri res | dua res | rel gap | pri obj | dua obj | kap/tau | time (s)\n",
      "----------------------------------------------------------------------------\n",
      "     0|      inf       inf      -nan      -inf       inf       inf  1.55e-03 \n",
      "   100| 2.28e-03  3.22e-02  1.36e-03 -3.00e+00 -3.01e+00  1.18e-16  7.47e-03 \n",
      "   200| 8.63e-05  2.61e-03  6.40e-08 -3.00e+00 -3.00e+00  4.93e-17  1.63e-02 \n",
      "   300| 1.23e-05  3.55e-04  2.68e-09 -3.00e+00 -3.00e+00  9.16e-17  2.30e-02 \n",
      "   380| 3.34e-06  9.20e-05  3.78e-09 -3.00e+00 -3.00e+00  1.18e-16  2.86e-02 \n",
      "----------------------------------------------------------------------------\n",
      "Status: Solved\n",
      "Timing: Solve time: 2.86e-02s\n",
      "\tLin-sys: nnz in L factor: 403, avg solve time: 2.70e-06s\n",
      "\tCones: avg projection time: 7.05e-05s\n",
      "----------------------------------------------------------------------------\n",
      "Error metrics:\n",
      "dist(s, K) = 8.7370e-10, dist(y, K*) = 1.3802e-09, s'y/m = 1.4638e-11\n",
      "|Ax + s - b|_2 / (1 + |b|_2) = 3.3404e-06\n",
      "|A'y + c|_2 / (1 + |c|_2) = 9.2036e-05\n",
      "|c'x + b'y| / (1 + |c'x| + |b'y|) = 3.7845e-09\n",
      "----------------------------------------------------------------------------\n",
      "c'x = -2.9962, -b'y = -2.9962\n",
      "============================================================================\n"
     ]
    },
    {
     "data": {
      "text/plain": [
       "5×5 Array{Complex{Float64},2}:\n",
       " 1.0+3.58937e-9im             0.0857607-0.996316im    -0.995607-0.0936257im      0.973338+0.229375im     -0.946793+0.321843im\n",
       "    0.0857607+0.996316im   1.0+2.51013e-11im         0.00789686-0.999969im      -0.145056+0.989423im     -0.401855-0.915703im\n",
       "    -0.995607+0.0936257im    0.00789686+0.999969im  1.0-2.9097e-9im             -0.990538-0.137238im      0.912501-0.409073im\n",
       "     0.973338-0.229375im      -0.145056-0.989423im    -0.990538+0.137238im   1.0+2.49128e-9im            -0.847727+0.530433im\n",
       "    -0.946793-0.321843im      -0.401855+0.915703im     0.912501+0.409073im      -0.847727-0.530433im  1.0-2.24718e-9im       "
      ]
     },
     "execution_count": 2,
     "metadata": {},
     "output_type": "execute_result"
    }
   ],
   "source": [
    "using Convex\n",
    "\n",
    "n = 5\n",
    "M = rand(n,n) + im*rand(n,n)\n",
    "U = ComplexVariable(n,n)\n",
    "objective = inner_product(U,M)\n",
    "c1 = diag(U) == 1 \n",
    "c2 = U in :SDP\n",
    "p = minimize(objective,c1,c2)\n",
    "solve!(p)\n",
    "U.value"
   ]
  }
 ],
 "metadata": {
  "kernelspec": {
   "display_name": "Julia 0.5.0-rc3",
   "language": "julia",
   "name": "julia-0.5"
  },
  "language_info": {
   "file_extension": ".jl",
   "mimetype": "application/julia",
   "name": "julia",
   "version": "0.5.0"
  }
 },
 "nbformat": 4,
 "nbformat_minor": 0
}
