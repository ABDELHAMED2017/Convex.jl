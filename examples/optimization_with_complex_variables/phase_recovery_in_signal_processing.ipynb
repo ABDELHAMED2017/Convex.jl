{
 "cells": [
  {
   "cell_type": "markdown",
   "metadata": {},
   "source": [
    "One of the applications of convex optimization in complex variables is phase recovery, a problem in signal processing. The objective is to reconstruct the complex phase of a vector when we are only given the magnitude of some linear measurements.\n",
    "\n",
    "This problem is orginally a nonconvex optimization problem. Using results from [this paper](https://arxiv.org/abs/1206.0102), the problem can be relaxed to a (complex) semidefinite program (complex SDP)."
   ]
  },
  {
   "cell_type": "markdown",
   "metadata": {},
   "source": [
    "Given a linear operator $A$ and a vector $b$ of measured amplitudes, define the positive semidefinite hermitian matrix $M = \\text{diag}(b) (I - A A^*) \\text{diag}(b)$. The problem is:\n",
    "\n",
    "                minimize < U,M >\n",
    "                subject to \n",
    "                diag(U) = 1\n",
    "                U in :HermitianSemiDefinite\n",
    "                \n",
    "Here the variable $U$ must be hermitian ($U \\in \\mathbb{H}_n $), and we have a solution to the phase recovery problem if $U = u u^*$ has rank one. Otherwise, the leading singular vector of $U$ can be used to approximate the solution.\n"
   ]
  },
  {
   "cell_type": "code",
   "execution_count": 4,
   "metadata": {
    "collapsed": false
   },
   "outputs": [
    {
     "name": "stdout",
     "output_type": "stream",
     "text": [
      "(size(coeff),size(var)) = ((10,10),(10,10))\n",
      "----------------------------------------------------------------------------\n",
      "\tSCS v1.1.8 - Splitting Conic Solver\n",
      "\t(c) Brendan O'Donoghue, Stanford University, 2012-2015\n",
      "----------------------------------------------------------------------------\n",
      "Lin-sys: sparse-direct, nnz in A = 196\n",
      "eps = 1.00e-04, alpha = 1.80, max_iters = 20000, normalize = 1, scale = 5.00\n",
      "Variables n = 51, constraints m = 111\n",
      "Cones:\tprimal zero / dual free vars: 56\n",
      "\tsd vars: 55, sd blks: 1\n",
      "Setup time: 1.71e-04s\n",
      "----------------------------------------------------------------------------\n",
      " Iter | pri res | dua res | rel gap | pri obj | dua obj | kap/tau | time (s)\n",
      "----------------------------------------------------------------------------\n",
      "     0|      inf       inf      -nan      -inf       inf       inf  1.57e-04 \n",
      "   100| 4.05e-03  1.10e-01  5.74e-04 -9.01e+00 -9.00e+00  8.77e-18  1.20e-02 \n",
      "   200| 2.19e-04  1.98e-03  1.88e-06 -9.11e+00 -9.11e+00  1.10e-16  3.61e-02 \n",
      "   280| 9.87e-06  6.30e-05  8.55e-07 -9.11e+00 -9.11e+00  7.83e-17  5.05e-02 \n",
      "----------------------------------------------------------------------------\n",
      "Status: Solved\n",
      "Timing: Solve time: 5.05e-02s\n",
      "\tLin-sys: nnz in L factor: 398, avg solve time: 6.05e-06s\n",
      "\tCones: avg projection time: 1.69e-04s\n",
      "----------------------------------------------------------------------------\n",
      "Error metrics:\n",
      "dist(s, K) = 1.3297e-09, dist(y, K*) = 2.0642e-09, s'y/m = 1.4752e-11\n",
      "|Ax + s - b|_2 / (1 + |b|_2) = 9.8723e-06\n",
      "|A'y + c|_2 / (1 + |c|_2) = 6.3027e-05\n",
      "|c'x + b'y| / (1 + |c'x| + |b'y|) = 8.5528e-07\n",
      "----------------------------------------------------------------------------\n",
      "c'x = -9.1126, -b'y = -9.1125\n",
      "============================================================================\n"
     ]
    },
    {
     "data": {
      "text/plain": [
       "5×5 Array{Complex{Float64},2}:\n",
       " 1.00002-1.17067e-16im          …          0.986016-0.166703im\n",
       "              1.0+0.00485926im             0.986795-0.161906im\n",
       "        -0.999516+0.0314899im             -0.980259+0.197665im\n",
       "        -0.971417-0.237436im              -0.997382-0.072176im\n",
       "         0.986016+0.166703im       0.999993-6.0774e-17im      "
      ]
     },
     "execution_count": 4,
     "metadata": {},
     "output_type": "execute_result"
    }
   ],
   "source": [
    "using Convex\n",
    "\n",
    "n = 5\n",
    "b = randn(n)\n",
    "A = rand(n,n) + im*rand(n,n)\n",
    "M = diagm(b)*(eye(n)-A*ctranspose(A))*diagm(b)\n",
    "U = ComplexVariable(n,n)\n",
    "objective = inner_product(U,M)\n",
    "c1 = diag(U) == 1 \n",
    "c2 = U in :SDP\n",
    "p = minimize(objective,c1,c2)\n",
    "solve!(p)\n",
    "U.value"
   ]
  },
  {
   "cell_type": "code",
   "execution_count": 5,
   "metadata": {
    "collapsed": false
   },
   "outputs": [
    {
     "data": {
      "text/plain": [
       "1"
      ]
     },
     "execution_count": 5,
     "metadata": {},
     "output_type": "execute_result"
    }
   ],
   "source": [
    "# Verify if the rank of U is 1\n",
    "A, B = eig(U.value)\n",
    "length([a for a in A if(abs(real(a))>1e-4)])"
   ]
  }
 ],
 "metadata": {
  "anaconda-cloud": {},
  "kernelspec": {
   "display_name": "Julia 0.5.0-rc3",
   "language": "julia",
   "name": "julia-0.5"
  },
  "language_info": {
   "file_extension": ".jl",
   "mimetype": "application/julia",
   "name": "julia",
   "version": "0.5.0"
  }
 },
 "nbformat": 4,
 "nbformat_minor": 0
}
