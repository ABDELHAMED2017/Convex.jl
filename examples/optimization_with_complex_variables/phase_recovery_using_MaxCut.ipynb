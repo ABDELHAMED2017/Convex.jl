{
 "cells": [
  {
   "cell_type": "markdown",
   "metadata": {},
   "source": [
    "In this example, we relax the phase retrieval problem similar to the classical [MaxCut](http://www-math.mit.edu/~goemans/PAPERS/maxcut-jacm.pdf) semidefinite program and recover the phase of the signal given the magnitude of the linear measurements.\n",
    "\n",
    "Phase recovery has wide applications such as  in X-ray and crystallography imaging, diffraction imaging or microscopy and audio signal processing. In all these applications, the detectors cannot measure the phase of the incoming wave and only record its amplitude i.e complex measurements of a signal $x \\in \\mathbb{C}^p$ are obtained from a linear injective operator A, **but we can only measure the magnitude vector |Ax| not the phase fo Ax**.\n",
    "\n",
    "Recovering the phase of Ax from |Ax| is a **nonconvex optimization problem**. Using results from [this paper](https://arxiv.org/abs/1206.0102), the problem can be relaxed to a (complex) semidefinite program (complex SDP).\n",
    "\n",
    "The original reprsentation of the problem is as follows:\n",
    "\n",
    ">>>> find x\n",
    "\n",
    ">>>> such that |Ax| = b\n",
    "\n",
    ">>>> where $x \\in \\mathbb{C}^p$, $A \\in \\mathbb{C}^{n×p}$ and $b \\in \\mathbb{R}^n$.\n",
    "\n"
   ]
  },
  {
   "cell_type": "markdown",
   "metadata": {},
   "source": [
    "In this example, **the problem is to find the phase of Ax given the value |Ax|**. Given a linear operator $A$ and a vector $b= |Ax|$ of measured amplitudes, in the noiseless case, we can write Ax = diag(b)u where $u \\in \\mathbb{C}^n$ is a phase vector, satisfying |$\\mathbb{u}_i$| = 1 for i = 1,. . . , n. \n",
    "\n",
    "We relax this problem as Complex Semidefinite Programming.\n",
    "\n",
    "### Relaxed Problem similar to [MaxCut](http://www-math.mit.edu/~goemans/PAPERS/maxcut-jacm.pdf)\n",
    "\n",
    "Define the positive semidefinite hermitian matrix $M = \\text{diag}(b) (I - A A^*) \\text{diag}(b)$. The problem is:\n",
    "\n",
    "                minimize < U,M >\n",
    "                subject to \n",
    "                diag(U) = 1\n",
    "                U in :HermitianSemiDefinite\n",
    "                \n",
    "Here the variable $U$ must be hermitian ($U \\in \\mathbb{H}_n $), and we have a solution to the phase recovery problem if $U = u u^*$ has rank one. Otherwise, the leading singular vector of $U$ can be used to approximate the solution."
   ]
  },
  {
   "cell_type": "code",
   "execution_count": 94,
   "metadata": {
    "collapsed": false
   },
   "outputs": [
    {
     "name": "stdout",
     "output_type": "stream",
     "text": [
      "(size(coeff),size(var)) = ((20,20),(20,20))\n",
      "----------------------------------------------------------------------------\n",
      "\tSCS v1.1.8 - Splitting Conic Solver\n",
      "\t(c) Brendan O'Donoghue, Stanford University, 2012-2015\n",
      "----------------------------------------------------------------------------\n",
      "Lin-sys: sparse-direct, nnz in A = 791\n",
      "eps = 1.00e-04, alpha = 1.80, max_iters = 20000, normalize = 1, scale = 5.00\n",
      "Variables n = 201, constraints m = 421\n",
      "Cones:\tprimal zero / dual free vars: 211\n",
      "\tsd vars: 210, sd blks: 1\n",
      "Setup time: 6.96e-04s\n",
      "----------------------------------------------------------------------------\n",
      " Iter | pri res | dua res | rel gap | pri obj | dua obj | kap/tau | time (s)\n",
      "----------------------------------------------------------------------------\n",
      "     0|      inf       inf      -nan      -inf       inf       inf  6.46e-03 \n",
      "   100| 3.46e-03  8.72e-02  1.06e-06 -1.02e+02 -1.02e+02  1.16e-15  1.23e-01 \n",
      "   200| 2.66e-04  1.89e-02  8.20e-06 -1.02e+02 -1.02e+02  6.43e-16  1.56e-01 \n",
      "   300| 2.27e-05  1.91e-03  1.02e-06 -1.02e+02 -1.02e+02  1.12e-15  2.01e-01 \n",
      "   400| 2.97e-06  2.17e-04  6.72e-08 -1.02e+02 -1.02e+02  4.04e-16  2.39e-01 \n",
      "   460| 1.09e-06  8.92e-05  1.61e-08 -1.02e+02 -1.02e+02  6.84e-17  2.56e-01 \n",
      "----------------------------------------------------------------------------\n",
      "Status: Solved\n",
      "Timing: Solve time: 2.56e-01s\n",
      "\tLin-sys: nnz in L factor: 1593, avg solve time: 1.60e-05s\n",
      "\tCones: avg projection time: 5.30e-04s\n",
      "----------------------------------------------------------------------------\n",
      "Error metrics:\n",
      "dist(s, K) = 1.6550e-09, dist(y, K*) = 1.8113e-09, s'y/m = -5.5497e-11\n",
      "|Ax + s - b|_2 / (1 + |b|_2) = 1.0948e-06\n",
      "|A'y + c|_2 / (1 + |c|_2) = 8.9238e-05\n",
      "|c'x + b'y| / (1 + |c'x| + |b'y|) = 1.6123e-08\n",
      "----------------------------------------------------------------------------\n",
      "c'x = -102.0868, -b'y = -102.0868\n",
      "============================================================================\n"
     ]
    },
    {
     "data": {
      "text/plain": [
       "10×10 Array{Complex{Float64},2}:\n",
       " 1.0+3.7352e-17im             0.691233+0.722632im  …      0.687651-0.726041im\n",
       "    0.691233-0.722632im   1.0-2.50157e-16im             -0.0493335-0.998782im\n",
       "    0.996785+0.080119im       0.631115+0.77569im           0.74361-0.668614im\n",
       "    0.278011+0.960578im      -0.501974+0.864883im         0.888594+0.458695im\n",
       "    0.979366-0.202097im       0.823012+0.568025im         0.526731-0.850032im\n",
       "     0.99584+0.0911115im      0.622518+0.782605im  …      0.750941-0.660368im\n",
       "    0.840265-0.542176im       0.972613+0.232433im         0.184167-0.982895im\n",
       "   -0.242079+0.970256im      -0.868472+0.495739im          0.53798+0.842958im\n",
       "    0.999503+0.0315263im      0.668108+0.744065im         0.710199-0.704001im\n",
       "    0.687651+0.726041im     -0.0493335+0.998782im     1.0-3.33738e-16im      "
      ]
     },
     "execution_count": 94,
     "metadata": {},
     "output_type": "execute_result"
    }
   ],
   "source": [
    "using Convex\n",
    "\n",
    "n = 10\n",
    "p = 2\n",
    "A = rand(n,p) + im*randn(n,p)\n",
    "x = rand(p) + im*randn(p)\n",
    "b = abs(A*x) + rand(n)\n",
    "\n",
    "M = diagm(b)*(eye(n)-A*ctranspose(A))*diagm(b)\n",
    "U = ComplexVariable(n,n)\n",
    "objective = inner_product(U,M)\n",
    "c1 = diag(U) == 1 \n",
    "c2 = U in :SDP\n",
    "p = minimize(objective,c1,c2)\n",
    "solve!(p)\n",
    "U.value"
   ]
  },
  {
   "cell_type": "code",
   "execution_count": 95,
   "metadata": {
    "collapsed": false
   },
   "outputs": [
    {
     "name": "stdout",
     "output_type": "stream",
     "text": [
      "1"
     ]
    },
    {
     "data": {
      "text/plain": [
       "10-element Array{Complex{Float64},1}:\n",
       "   0.315211-0.0253359im\n",
       "   0.199576-0.245295im \n",
       "   0.316228+0.0im      \n",
       "   0.111969+0.295741im \n",
       "   0.303587-0.0885164im\n",
       "   0.316208+0.0034889im\n",
       "   0.251125-0.192189im \n",
       " -0.0517238+0.311969im \n",
       "   0.315853-0.0153858im\n",
       "    0.23515+0.211434im "
      ]
     },
     "execution_count": 95,
     "metadata": {},
     "output_type": "execute_result"
    }
   ],
   "source": [
    "# Verify if the rank of U is 1\n",
    "B, C = eig(U.value);\n",
    "print(length([e for e in B if(abs(real(e))>1e-4)]))\n",
    "#Decompose U = uu*\n",
    "# u is the phase of Ax\n",
    "u = C[:,1]"
   ]
  },
  {
   "cell_type": "code",
   "execution_count": 96,
   "metadata": {
    "collapsed": false
   },
   "outputs": [
    {
     "data": {
      "text/plain": [
       "π = 3.1415926535897..."
      ]
     },
     "execution_count": 96,
     "metadata": {},
     "output_type": "execute_result"
    }
   ],
   "source": [
    "pi = π"
   ]
  },
  {
   "cell_type": "code",
   "execution_count": 97,
   "metadata": {
    "collapsed": false
   },
   "outputs": [
    {
     "data": {
      "text/plain": [
       "0.11018387297527316"
      ]
     },
     "execution_count": 97,
     "metadata": {},
     "output_type": "execute_result"
    }
   ],
   "source": [
    "phase_u = atan(sum(imag(u)/sum(real(u))))"
   ]
  },
  {
   "cell_type": "code",
   "execution_count": 98,
   "metadata": {
    "collapsed": false
   },
   "outputs": [
    {
     "data": {
      "text/plain": [
       "0.19297018950357864"
      ]
     },
     "execution_count": 98,
     "metadata": {},
     "output_type": "execute_result"
    }
   ],
   "source": [
    "phase_Ax = atan(sum(imag(A*x)/sum(real(A*x))))"
   ]
  },
  {
   "cell_type": "code",
   "execution_count": 99,
   "metadata": {
    "collapsed": false
   },
   "outputs": [
    {
     "data": {
      "text/plain": [
       "0.08278631652830548"
      ]
     },
     "execution_count": 99,
     "metadata": {},
     "output_type": "execute_result"
    }
   ],
   "source": [
    "# \n",
    "norm(abs(phase_u-phase_Ax),Inf)"
   ]
  },
  {
   "cell_type": "code",
   "execution_count": null,
   "metadata": {
    "collapsed": true
   },
   "outputs": [],
   "source": []
  }
 ],
 "metadata": {
  "anaconda-cloud": {},
  "kernelspec": {
   "display_name": "Julia 0.5.0-rc3",
   "language": "julia",
   "name": "julia-0.5"
  },
  "language_info": {
   "file_extension": ".jl",
   "mimetype": "application/julia",
   "name": "julia",
   "version": "0.5.0"
  }
 },
 "nbformat": 4,
 "nbformat_minor": 0
}
