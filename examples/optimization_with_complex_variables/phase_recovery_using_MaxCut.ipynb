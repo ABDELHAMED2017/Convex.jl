{
 "cells": [
  {
   "cell_type": "markdown",
   "metadata": {},
   "source": [
    "In this example, we relax the phase retrieval problem similar to the classical [MaxCut](http://www-math.mit.edu/~goemans/PAPERS/maxcut-jacm.pdf) semidefinite program and recover the phase of the signal given the magnitude of the linear measurements.\n",
    "\n",
    "Phase recovery has wide applications such as  in X-ray and crystallography imaging, diffraction imaging or microscopy and audio signal processing. In all these applications, the detectors cannot measure the phase of the incoming wave and only record its amplitude i.e complex measurements of a signal $x \\in \\mathbb{C}^p$ are obtained from a linear injective operator A, **but we can only measure the magnitude vector |Ax| not the phase fo Ax**.\n",
    "\n",
    "Recovering the phase of Ax from |Ax| is a **nonconvex optimization problem**. Using results from [this paper](https://arxiv.org/abs/1206.0102), the problem can be relaxed to a (complex) semidefinite program (complex SDP).\n",
    "\n",
    "The original reprsentation of the problem is as follows:\n",
    "\n",
    ">>>> find x\n",
    "\n",
    ">>>> such that |Ax| = b\n",
    "\n",
    ">>>> where $x \\in \\mathbb{C}^p$, $A \\in \\mathbb{C}^{n×p}$ and $b \\in \\mathbb{R}^n$.\n",
    "\n"
   ]
  },
  {
   "cell_type": "markdown",
   "metadata": {},
   "source": [
    "In this example, **the problem is to find the phase of Ax given the value |Ax|**. Given a linear operator $A$ and a vector $b= |Ax|$ of measured amplitudes, in the noiseless case, we can write Ax = diag(b)u where $u \\in \\mathbb{C}^n$ is a phase vector, satisfying |$\\mathbb{u}_i$| = 1 for i = 1,. . . , n. \n",
    "\n",
    "We relax this problem as Complex Semidefinite Programming.\n",
    "\n",
    "### Relaxed Problem similar to [MaxCut](http://www-math.mit.edu/~goemans/PAPERS/maxcut-jacm.pdf)\n",
    "\n",
    "Define the positive semidefinite hermitian matrix $M = \\text{diag}(b) (I - A A^*) \\text{diag}(b)$. The problem is:\n",
    "\n",
    "                minimize < U,M >\n",
    "                subject to \n",
    "                diag(U) = 1\n",
    "                U in :HermitianSemiDefinite\n",
    "                \n",
    "Here the variable $U$ must be hermitian ($U \\in \\mathbb{H}_n $), and we have a solution to the phase recovery problem if $U = u u^*$ has rank one. Otherwise, the leading singular vector of $U$ can be used to approximate the solution."
   ]
  },
  {
   "cell_type": "code",
   "execution_count": 13,
   "metadata": {
    "collapsed": false
   },
   "outputs": [
    {
     "name": "stdout",
     "output_type": "stream",
     "text": [
      "(size(coeff),size(var)) = ((8,8),(8,8))\n",
      "----------------------------------------------------------------------------\n",
      "\tSCS v1.1.8 - Splitting Conic Solver\n",
      "\t(c) Brendan O'Donoghue, Stanford University, 2012-2015\n",
      "----------------------------------------------------------------------------\n",
      "Lin-sys: sparse-direct, nnz in A = 125\n",
      "eps = 1.00e-04, alpha = 1.80, max_iters = 20000, normalize = 1, scale = 5.00\n",
      "Variables n = 33, constraints m = 73\n",
      "Cones:\tprimal zero / dual free vars: 37\n",
      "\tsd vars: 36, sd blks: 1\n",
      "Setup time: 9.04e-02s\n",
      "----------------------------------------------------------------------------\n",
      " Iter | pri res | dua res | rel gap | pri obj | dua obj | kap/tau | time (s)\n",
      "----------------------------------------------------------------------------\n",
      "     0|      inf       inf      -nan      -inf       inf       inf  5.01e-03 \n",
      "   100| 9.73e-03  1.35e+00  1.16e-03 -9.00e+01 -8.98e+01  1.18e-15  1.41e-02 \n",
      "   200| 9.73e-05  2.49e-02  4.17e-06 -9.03e+01 -9.03e+01  1.36e-15  2.48e-02 \n",
      "   300| 2.69e-05  7.04e-03  7.47e-09 -9.03e+01 -9.03e+01  7.16e-16  3.51e-02 \n",
      "   400| 7.79e-06  2.04e-03  1.95e-09 -9.03e+01 -9.03e+01  6.71e-17  4.50e-02 \n",
      "   500| 2.25e-06  5.90e-04  1.29e-10 -9.03e+01 -9.03e+01  6.39e-17  5.43e-02 \n",
      "   600| 6.51e-07  1.71e-04  3.96e-10 -9.03e+01 -9.03e+01  7.02e-17  6.28e-02 \n",
      "   660| 3.09e-07  8.10e-05  9.78e-10 -9.03e+01 -9.03e+01  7.24e-16  6.79e-02 \n",
      "----------------------------------------------------------------------------\n",
      "Status: Solved\n",
      "Timing: Solve time: 6.79e-02s\n",
      "\tLin-sys: nnz in L factor: 255, avg solve time: 4.05e-06s\n",
      "\tCones: avg projection time: 9.53e-05s\n",
      "----------------------------------------------------------------------------\n",
      "Error metrics:\n",
      "dist(s, K) = 8.4127e-18, dist(y, K*) = 1.8941e-09, s'y/m = 4.4584e-10\n",
      "|Ax + s - b|_2 / (1 + |b|_2) = 3.0938e-07\n",
      "|A'y + c|_2 / (1 + |c|_2) = 8.1039e-05\n",
      "|c'x + b'y| / (1 + |c'x| + |b'y|) = 9.7827e-10\n",
      "----------------------------------------------------------------------------\n",
      "c'x = -90.3374, -b'y = -90.3374\n",
      "============================================================================\n"
     ]
    },
    {
     "data": {
      "text/plain": [
       "4×4 Array{Complex{Float64},2}:\n",
       " 1.0-1.3529e-17im            0.854607-0.519275im  …      0.999839+0.017965im\n",
       "    0.854607+0.519275im  1.0+2.58732e-17im                0.84514+0.534545im\n",
       "    0.951344-0.30813im       0.653021-0.75734im          0.956726-0.29099im \n",
       "    0.999839-0.017965im       0.84514-0.534545im     1.0+4.09013e-17im      "
      ]
     },
     "execution_count": 13,
     "metadata": {},
     "output_type": "execute_result"
    }
   ],
   "source": [
    "using Convex\n",
    "\n",
    "n = 4\n",
    "p = 2\n",
    "A = rand(n,p) + im*randn(n,p)\n",
    "x = rand(p) + im*randn(p)\n",
    "b = abs(A*x) + rand(n)\n",
    "\n",
    "M = diagm(b)*(eye(n)-A*ctranspose(A))*diagm(b)\n",
    "U = ComplexVariable(n,n)\n",
    "objective = inner_product(U,M)\n",
    "c1 = diag(U) == 1 \n",
    "c2 = U in :SDP\n",
    "p = minimize(objective,c1,c2)\n",
    "solve!(p)\n",
    "U.value"
   ]
  },
  {
   "cell_type": "code",
   "execution_count": 14,
   "metadata": {
    "collapsed": false
   },
   "outputs": [
    {
     "name": "stdout",
     "output_type": "stream",
     "text": [
      "1"
     ]
    },
    {
     "data": {
      "text/plain": [
       "4-element Array{Complex{Float64},1}:\n",
       " 0.475672+0.154065im\n",
       "  0.32651+0.37867im \n",
       "      0.5+0.0im     \n",
       " 0.478363+0.145495im"
      ]
     },
     "execution_count": 14,
     "metadata": {},
     "output_type": "execute_result"
    }
   ],
   "source": [
    "# Verify if the rank of U is 1\n",
    "B, C = eig(U.value);\n",
    "print(length([e for e in B if(abs(real(e))>1e-4)]))\n",
    "#Decompose U = uu*\n",
    "# u is the phase of Ax\n",
    "u = C[:,1]"
   ]
  }
 ],
 "metadata": {
  "anaconda-cloud": {},
  "kernelspec": {
   "display_name": "Julia 0.5.0-rc3",
   "language": "julia",
   "name": "julia-0.5"
  },
  "language_info": {
   "file_extension": ".jl",
   "mimetype": "application/julia",
   "name": "julia",
   "version": "0.5.0"
  }
 },
 "nbformat": 4,
 "nbformat_minor": 0
}
